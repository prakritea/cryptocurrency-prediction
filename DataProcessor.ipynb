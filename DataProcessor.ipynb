{
 "cells": [
  {
   "cell_type": "code",
   "execution_count": 1,
   "id": "38ed97db",
   "metadata": {},
   "outputs": [
    {
     "name": "stdout",
     "output_type": "stream",
     "text": [
      "✅ Saved: data/processed/btcusdt_50_30_prediction.h5\n",
      "📊 Inputs shape: (6290, 50), Outputs shape: (6290, 30)\n"
     ]
    }
   ],
   "source": [
    "import os\n",
    "import numpy as np\n",
    "import pandas as pd\n",
    "import h5py\n",
    "\n",
    "# --- Parameters ---\n",
    "input_step_size = 50\n",
    "output_size = 30  # Must match baseline output length\n",
    "sliding_window = False  # Can set True if you want overlapping samples\n",
    "symbol = \"BTCUSDT\"\n",
    "\n",
    "# Paths\n",
    "input_csv = f\"data/{symbol}_2018.csv\"\n",
    "output_dir = \"data/processed\"\n",
    "os.makedirs(output_dir, exist_ok=True)\n",
    "file_name = f\"{output_dir}/{symbol.lower()}_{input_step_size}_{output_size}_prediction.h5\"\n",
    "\n",
    "# --- Load CSV and preprocess ---\n",
    "df = pd.read_csv(input_csv).dropna()\n",
    "df['Datetime'] = pd.to_datetime(df['Open Time'])\n",
    "df = df.reset_index(drop=True)\n",
    "\n",
    "prices = df['Close'].values.astype(np.float32)\n",
    "times = df['Datetime'].values  # datetime64[ns]\n",
    "\n",
    "inputs, outputs = [], []\n",
    "input_times, output_times = [], []\n",
    "\n",
    "if sliding_window:\n",
    "    # Overlapping windows: slide 1 step at a time\n",
    "    for i in range(len(prices) - input_step_size - output_size + 1):\n",
    "        inputs.append(prices[i:i + input_step_size])\n",
    "        input_times.append(times[i:i + input_step_size])\n",
    "        outputs.append(prices[i + input_step_size: i + input_step_size + output_size])\n",
    "        output_times.append(times[i + input_step_size: i + input_step_size + output_size])\n",
    "else:\n",
    "    # Non-overlapping windows: jump input_step_size each time\n",
    "    total_length = len(prices)\n",
    "    max_start = total_length - input_step_size - output_size\n",
    "    for i in range(0, max_start + 1, input_step_size):\n",
    "        inputs.append(prices[i:i + input_step_size])\n",
    "        input_times.append(times[i:i + input_step_size])\n",
    "        outputs.append(prices[i + input_step_size: i + input_step_size + output_size])\n",
    "        output_times.append(times[i + input_step_size: i + input_step_size + output_size])\n",
    "\n",
    "# Convert lists to numpy arrays\n",
    "inputs = np.array(inputs)\n",
    "outputs = np.array(outputs)\n",
    "input_times = np.array(input_times)\n",
    "output_times = np.array(output_times)\n",
    "\n",
    "# --- Save data to HDF5 and times to npy ---\n",
    "with h5py.File(file_name, 'w') as f:\n",
    "    f.create_dataset(\"inputs\", data=inputs)\n",
    "    f.create_dataset(\"outputs\", data=outputs)\n",
    "\n",
    "np.save(file_name.replace('.h5', '_input_times.npy'), input_times)\n",
    "np.save(file_name.replace('.h5', '_output_times.npy'), output_times)\n",
    "\n",
    "print(f\"✅ Saved: {file_name}\")\n",
    "print(f\"📊 Inputs shape: {inputs.shape}, Outputs shape: {outputs.shape}\")\n"
   ]
  },
  {
   "cell_type": "code",
   "execution_count": null,
   "id": "224152b4",
   "metadata": {},
   "outputs": [],
   "source": []
  }
 ],
 "metadata": {
  "kernelspec": {
   "display_name": "venv",
   "language": "python",
   "name": "python3"
  },
  "language_info": {
   "codemirror_mode": {
    "name": "ipython",
    "version": 3
   },
   "file_extension": ".py",
   "mimetype": "text/x-python",
   "name": "python",
   "nbconvert_exporter": "python",
   "pygments_lexer": "ipython3",
   "version": "3.12.6"
  }
 },
 "nbformat": 4,
 "nbformat_minor": 5
}
