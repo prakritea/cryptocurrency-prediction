{
 "cells": [
  {
   "cell_type": "code",
   "execution_count": 6,
   "id": "5d0f53ee",
   "metadata": {},
   "outputs": [],
   "source": [
    "import numpy as numpy\n",
    "import json\n",
    "import os\n",
    "import pandas as pd\n",
    "import urllib.request"
   ]
  },
  {
   "cell_type": "code",
   "execution_count": null,
   "id": "77c22f42",
   "metadata": {},
   "outputs": [
    {
     "ename": "AttributeError",
     "evalue": "'dict' object has no attribute 'timestamp'",
     "output_type": "error",
     "traceback": [
      "\u001b[31m---------------------------------------------------------------------------\u001b[39m",
      "\u001b[31mAttributeError\u001b[39m                            Traceback (most recent call last)",
      "\u001b[36mCell\u001b[39m\u001b[36m \u001b[39m\u001b[32mIn[19]\u001b[39m\u001b[32m, line 34\u001b[39m\n\u001b[32m     25\u001b[39m start_time = {\n\u001b[32m     26\u001b[39m     \u001b[33m\"\u001b[39m\u001b[33mBTCUSDT\u001b[39m\u001b[33m\"\u001b[39m: \u001b[33m\"\u001b[39m\u001b[33m2018-01-01\u001b[39m\u001b[33m\"\u001b[39m,\n\u001b[32m     27\u001b[39m     \u001b[33m\"\u001b[39m\u001b[33mETHUSDT\u001b[39m\u001b[33m\"\u001b[39m: \u001b[33m\"\u001b[39m\u001b[33m2018-01-01\u001b[39m\u001b[33m\"\u001b[39m,\n\u001b[32m     28\u001b[39m     \u001b[33m\"\u001b[39m\u001b[33mLTCUSDT\u001b[39m\u001b[33m\"\u001b[39m: \u001b[33m\"\u001b[39m\u001b[33m2018-01-01\u001b[39m\u001b[33m\"\u001b[39m,\n\u001b[32m     29\u001b[39m     \u001b[33m\"\u001b[39m\u001b[33mXMRUSDT\u001b[39m\u001b[33m\"\u001b[39m: \u001b[33m\"\u001b[39m\u001b[33m2020-11-19\u001b[39m\u001b[33m\"\u001b[39m  \u001b[38;5;66;03m# Adjusted for actual listing date\u001b[39;00m\n\u001b[32m     30\u001b[39m }\n\u001b[32m     32\u001b[39m end_time = pd.Timestamp(\u001b[33m\"\u001b[39m\u001b[33m2021-01-02\u001b[39m\u001b[33m\"\u001b[39m)\n\u001b[32m---> \u001b[39m\u001b[32m34\u001b[39m start_ms = \u001b[38;5;28mint\u001b[39m(\u001b[43mstart_time\u001b[49m\u001b[43m.\u001b[49m\u001b[43mtimestamp\u001b[49m() * \u001b[32m1000\u001b[39m)\n\u001b[32m     35\u001b[39m end_ms = \u001b[38;5;28mint\u001b[39m(end_time.timestamp() * \u001b[32m1000\u001b[39m)\n\u001b[32m     36\u001b[39m step = \u001b[32m1000\u001b[39m * \u001b[32m5\u001b[39m * \u001b[32m60\u001b[39m * \u001b[32m1000\u001b[39m  \u001b[38;5;66;03m# 1000 candles * 5 min * 60 sec * 1000 ms\u001b[39;00m\n",
      "\u001b[31mAttributeError\u001b[39m: 'dict' object has no attribute 'timestamp'"
     ]
    }
   ],
   "source": [
    "import requests\n",
    "import pandas as pd\n",
    "import time\n",
    "import os\n",
    "\n",
    "def get_binance_ohlc(symbol, interval, start_ts, end_ts):\n",
    "    url = \"https://api.binance.com/api/v3/klines\"\n",
    "    params = {\n",
    "        \"symbol\": symbol,\n",
    "        \"interval\": interval,\n",
    "        \"startTime\": start_ts,\n",
    "        \"endTime\": end_ts,\n",
    "        \"limit\": 1000\n",
    "    }\n",
    "    response = requests.get(url, params=params)\n",
    "    data = response.json()\n",
    "    return pd.DataFrame(data)\n",
    "\n",
    "# ✅ Create output directory if it doesn't exist\n",
    "os.makedirs(\"data\", exist_ok=True)\n",
    "\n",
    "# ✅ Settings\n",
    "coins = [\"BTCUSDT\", \"ETHUSDT\", \"LTCUSDT\", \"XMRUSDT\"]\n",
    "interval = \"5m\"\n",
    "start_times = {\n",
    "    \"BTCUSDT\": \"2018-01-01\",\n",
    "    \"ETHUSDT\": \"2018-01-01\",\n",
    "    \"LTCUSDT\": \"2018-01-01\",\n",
    "    \"XMRUSDT\": \"2020-11-19\"  # ✅ XMR listed late\n",
    "}\n",
    "end_time = pd.Timestamp(\"2021-01-02\")\n",
    "end_ms = int(end_time.timestamp() * 1000)\n",
    "step = 1000 * 5 * 60 * 1000  # 1000 candles * 5 min * 60 sec * 1000 ms\n",
    "\n",
    "# ✅ Loop through coins\n",
    "for symbol in coins:\n",
    "    print(f\"\\nFetching data for: {symbol}\")\n",
    "    start_str = start_times[symbol]\n",
    "    start = int(pd.Timestamp(start_str).timestamp() * 1000)\n",
    "    all_data = []\n",
    "\n",
    "    while start < end_ms:\n",
    "        end = min(start + step, end_ms)\n",
    "        df = get_binance_ohlc(symbol, interval, start, end)\n",
    "\n",
    "        if df.empty:\n",
    "            print(\"No more data.\")\n",
    "            break\n",
    "\n",
    "        df[0] = pd.to_datetime(df[0], unit='ms')\n",
    "        all_data.append(df)\n",
    "\n",
    "        start = int(df[0].iloc[-1].timestamp() * 1000) + 1\n",
    "        time.sleep(0.1)\n",
    "\n",
    "    if all_data:\n",
    "        final_df = pd.concat(all_data, ignore_index=True)\n",
    "        final_df.columns = [\n",
    "            \"Open Time\", \"Open\", \"High\", \"Low\", \"Close\", \"Volume\",\n",
    "            \"Close Time\", \"Quote Volume\", \"Number of Trades\",\n",
    "            \"Taker Buy Base\", \"Taker Buy Quote\", \"Ignore\"\n",
    "        ]\n",
    "        final_df.to_csv(f\"data/{symbol}_2018.csv\", index=False)\n",
    "        print(f\"Saved: data/{symbol}_2018.csv | Rows: {final_df.shape[0]}\")\n",
    "    else:\n",
    "        print(f\"No data collected for {symbol}.\")\n"
   ]
  },
  {
   "cell_type": "code",
   "execution_count": null,
   "id": "36ab02fe",
   "metadata": {},
   "outputs": [],
   "source": []
  }
 ],
 "metadata": {
  "kernelspec": {
   "display_name": "venv",
   "language": "python",
   "name": "python3"
  },
  "language_info": {
   "codemirror_mode": {
    "name": "ipython",
    "version": 3
   },
   "file_extension": ".py",
   "mimetype": "text/x-python",
   "name": "python",
   "nbconvert_exporter": "python",
   "pygments_lexer": "ipython3",
   "version": "3.12.6"
  }
 },
 "nbformat": 4,
 "nbformat_minor": 5
}
